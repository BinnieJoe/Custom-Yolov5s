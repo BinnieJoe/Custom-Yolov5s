{
  "nbformat": 4,
  "nbformat_minor": 0,
  "metadata": {
    "colab": {
      "provenance": [],
      "gpuType": "T4"
    },
    "kernelspec": {
      "name": "python3",
      "display_name": "Python 3"
    },
    "language_info": {
      "name": "python"
    },
    "accelerator": "GPU"
  },
  "cells": [
    {
      "cell_type": "code",
      "execution_count": 1,
      "metadata": {
        "id": "j3sp6QEHT0O6",
        "colab": {
          "base_uri": "https://localhost:8080/"
        },
        "outputId": "44c98703-277f-4ee8-ae92-ac589adcf179"
      },
      "outputs": [
        {
          "output_type": "stream",
          "name": "stdout",
          "text": [
            "Drive already mounted at /content/drive; to attempt to forcibly remount, call drive.mount(\"/content/drive\", force_remount=True).\n"
          ]
        }
      ],
      "source": [
        "from google.colab import drive\n",
        "drive.mount('/content/drive')"
      ]
    },
    {
      "cell_type": "markdown",
      "source": [
        "## 1.모델 가져오기(git clone)"
      ],
      "metadata": {
        "id": "oIh4VtojVbHU"
      }
    },
    {
      "cell_type": "code",
      "source": [
        "%pwd"
      ],
      "metadata": {
        "colab": {
          "base_uri": "https://localhost:8080/",
          "height": 35
        },
        "id": "aO6yfrfAUWbv",
        "outputId": "b73d7f1c-314a-4053-a3a2-705d5561924b"
      },
      "execution_count": 2,
      "outputs": [
        {
          "output_type": "execute_result",
          "data": {
            "text/plain": [
              "'/content'"
            ],
            "application/vnd.google.colaboratory.intrinsic+json": {
              "type": "string"
            }
          },
          "metadata": {},
          "execution_count": 2
        }
      ]
    },
    {
      "cell_type": "code",
      "source": [
        "%cd /content/drive/MyDrive/yolo/pklot detection"
      ],
      "metadata": {
        "colab": {
          "base_uri": "https://localhost:8080/"
        },
        "id": "kqLx1Nt-UlBd",
        "outputId": "7bbce136-934a-4def-99dd-2c2a569d567f"
      },
      "execution_count": 3,
      "outputs": [
        {
          "output_type": "stream",
          "name": "stdout",
          "text": [
            "/content/drive/MyDrive/yolo/pklot detection\n"
          ]
        }
      ]
    },
    {
      "cell_type": "code",
      "source": [
        "%pwd"
      ],
      "metadata": {
        "colab": {
          "base_uri": "https://localhost:8080/",
          "height": 35
        },
        "id": "Ek9IOXaBUoBU",
        "outputId": "088f95e8-39b4-4e74-86f7-a86ea4d0c618"
      },
      "execution_count": 4,
      "outputs": [
        {
          "output_type": "execute_result",
          "data": {
            "text/plain": [
              "'/content/drive/MyDrive/yolo/pklot detection'"
            ],
            "application/vnd.google.colaboratory.intrinsic+json": {
              "type": "string"
            }
          },
          "metadata": {},
          "execution_count": 4
        }
      ]
    },
    {
      "cell_type": "code",
      "source": [
        "!git clone https://github.com/ultralytics/yolov5"
      ],
      "metadata": {
        "colab": {
          "base_uri": "https://localhost:8080/"
        },
        "id": "cejhhCgqUo08",
        "outputId": "3df47179-cee2-4201-c342-47a1408941a3"
      },
      "execution_count": 6,
      "outputs": [
        {
          "output_type": "stream",
          "name": "stdout",
          "text": [
            "Cloning into 'yolov5'...\n",
            "remote: Enumerating objects: 16582, done.\u001b[K\n",
            "remote: Counting objects: 100% (60/60), done.\u001b[K\n",
            "remote: Compressing objects: 100% (41/41), done.\u001b[K\n",
            "remote: Total 16582 (delta 30), reused 39 (delta 19), pack-reused 16522\u001b[K\n",
            "Receiving objects: 100% (16582/16582), 15.11 MiB | 12.93 MiB/s, done.\n",
            "Resolving deltas: 100% (11383/11383), done.\n"
          ]
        }
      ]
    },
    {
      "cell_type": "code",
      "source": [
        "%cd /content/drive/MyDrive/yolo/pothole detection/yolov5"
      ],
      "metadata": {
        "colab": {
          "base_uri": "https://localhost:8080/"
        },
        "id": "D-eZ3iGLUvfW",
        "outputId": "90c9e7a3-7764-4ceb-97d4-ab86d9d853cd"
      },
      "execution_count": 5,
      "outputs": [
        {
          "output_type": "stream",
          "name": "stdout",
          "text": [
            "/content/drive/MyDrive/yolo/pothole detection/yolov5\n"
          ]
        }
      ]
    },
    {
      "cell_type": "code",
      "source": [
        "!pip install -r requirements.txt\n",
        "import torch\n",
        "from IPython.display import Image, clear_output  # to display images\n",
        "# clear_output()\n",
        "print('Setup complete. Using torch %s %s' % (torch.__version__, torch.cuda.get_device_properties(0) if torch.cuda.is_available() else 'CPU'))"
      ],
      "metadata": {
        "id": "nqFmXeHZVAT-"
      },
      "execution_count": null,
      "outputs": []
    },
    {
      "cell_type": "markdown",
      "source": [
        "## 2.데이터셋 다운로드"
      ],
      "metadata": {
        "id": "mvPAf62lVy7t"
      }
    },
    {
      "cell_type": "code",
      "source": [
        "%cd /content/drive/MyDrive/yolo/pklot detection/yolov5/pklot"
      ],
      "metadata": {
        "colab": {
          "base_uri": "https://localhost:8080/"
        },
        "id": "luP5CLA-V42L",
        "outputId": "3a975d6a-368b-41d0-b70a-ca38194b8218"
      },
      "execution_count": 7,
      "outputs": [
        {
          "output_type": "stream",
          "name": "stdout",
          "text": [
            "/content/drive/MyDrive/yolo/pklot detection/yolov5/pklot\n"
          ]
        }
      ]
    },
    {
      "cell_type": "code",
      "source": [
        "%pwd"
      ],
      "metadata": {
        "colab": {
          "base_uri": "https://localhost:8080/",
          "height": 35
        },
        "id": "N_GhBL3yWuM1",
        "outputId": "7625f2d5-3a75-43b6-d144-2c363b9fb6e2"
      },
      "execution_count": 18,
      "outputs": [
        {
          "output_type": "execute_result",
          "data": {
            "text/plain": [
              "'/content/drive/MyDrive/yolo/pklot detection/yolov5/pklot'"
            ],
            "application/vnd.google.colaboratory.intrinsic+json": {
              "type": "string"
            }
          },
          "metadata": {},
          "execution_count": 18
        }
      ]
    },
    {
      "cell_type": "code",
      "source": [
        "!curl -L \"https://public.roboflow.com/ds/Inm0XNYyuF?key=FUK19IOAjZ\" > roboflow.zip; unzip roboflow.zip; rm roboflow.zip"
      ],
      "metadata": {
        "id": "nA_o8Uz_WvT8"
      },
      "execution_count": null,
      "outputs": []
    },
    {
      "cell_type": "markdown",
      "source": [
        "### dataSet의 구성 내용을 확인"
      ],
      "metadata": {
        "id": "m-IrunS8W9Gf"
      }
    },
    {
      "cell_type": "code",
      "source": [
        "from glob import glob\n",
        "train_img_list = glob(\"/content/drive/MyDrive/yolo/pklot detection/yolov5/pklot/train/images/*\")\n",
        "val_img_list = glob(\"/content/drive/MyDrive/yolo/pklot detection/yolov5/pklot/valid/images/*\")\n",
        "test_img_list = glob(\"/content/drive/MyDrive/yolo/pklot detection/yolov5/pklot/test/images/*\")\n",
        "print(len(train_img_list), len(val_img_list), len(test_img_list))"
      ],
      "metadata": {
        "colab": {
          "base_uri": "https://localhost:8080/"
        },
        "id": "Xo2uE-RfXDNN",
        "outputId": "e54d2e6c-ebbf-42e5-e995-11ee1466326f"
      },
      "execution_count": 12,
      "outputs": [
        {
          "output_type": "stream",
          "name": "stdout",
          "text": [
            "8691 2483 1242\n"
          ]
        }
      ]
    },
    {
      "cell_type": "code",
      "source": [
        "import yaml\n",
        "with open(\"/content/drive/MyDrive/yolo/pklot detection/yolov5/pklot/train.txt\",'w') as f:\n",
        "  f.write('\\n'.join(train_img_list) + '\\n')\n",
        "with open(\"/content/drive/MyDrive/yolo/pklot detection/yolov5/pklot/val.txt\",'w') as f:\n",
        "  f.write('\\n'.join(val_img_list) + '\\n')\n",
        "with open(\"/content/drive/MyDrive/yolo/pklot detection/yolov5/pklot/test.txt\",'w') as f:\n",
        "  f.write('\\n'.join(test_img_list) + '\\n')"
      ],
      "metadata": {
        "id": "RPdnTHfDt4SA"
      },
      "execution_count": null,
      "outputs": []
    },
    {
      "cell_type": "markdown",
      "source": [
        "##3. yaml파일 만들기"
      ],
      "metadata": {
        "id": "cK8jFG-PYxvD"
      }
    },
    {
      "cell_type": "code",
      "source": [
        "from IPython.core.magic import register_line_cell_magic\n",
        "\n",
        "@register_line_cell_magic\n",
        "def writetemplate(line,cell):\n",
        "    with open(line, 'w') as f:\n",
        "        f.write(cell.format(**globals()))"
      ],
      "metadata": {
        "id": "96mmL19iZ5pI"
      },
      "execution_count": 14,
      "outputs": []
    },
    {
      "cell_type": "code",
      "source": [
        "%cat data.yaml"
      ],
      "metadata": {
        "id": "5tVfgbh8ceSE"
      },
      "execution_count": null,
      "outputs": []
    },
    {
      "cell_type": "code",
      "source": [
        "%%writetemplate /content/drive/MyDrive/yolo/pklot detection/yolov5/pklot/data.yaml\n",
        "\n",
        "train: ./pklot/train/images\n",
        "val: ./pklot/valid/images\n",
        "\n",
        "nc: 2\n",
        "names: ['space-empty', 'space-occupied']"
      ],
      "metadata": {
        "id": "PG9TbdezaFCb"
      },
      "execution_count": 20,
      "outputs": []
    },
    {
      "cell_type": "code",
      "source": [
        "%cat data.yaml"
      ],
      "metadata": {
        "id": "6C2Wjo5QcCoI"
      },
      "execution_count": null,
      "outputs": []
    },
    {
      "cell_type": "markdown",
      "source": [
        "##4.FineTunning"
      ],
      "metadata": {
        "id": "m4mRVX5NcxF9"
      }
    },
    {
      "cell_type": "code",
      "source": [
        "with open('data.yaml','r') as stream:\n",
        "  num_classes = str(yaml.safe_load(stream)['nc'])\n",
        "  print (num_classes)"
      ],
      "metadata": {
        "colab": {
          "base_uri": "https://localhost:8080/"
        },
        "id": "PBo4jFiFcVlF",
        "outputId": "792dac63-f38f-4f57-f3a1-8b1b51dc8454"
      },
      "execution_count": 24,
      "outputs": [
        {
          "output_type": "stream",
          "name": "stdout",
          "text": [
            "2\n"
          ]
        }
      ]
    },
    {
      "cell_type": "code",
      "source": [
        "%pwd"
      ],
      "metadata": {
        "colab": {
          "base_uri": "https://localhost:8080/",
          "height": 35
        },
        "id": "bNtspTaKdE1f",
        "outputId": "a60bc5b0-d203-484c-d3a1-e5d2cafbe147"
      },
      "execution_count": 26,
      "outputs": [
        {
          "output_type": "execute_result",
          "data": {
            "text/plain": [
              "'/content/drive/MyDrive/yolo/pklot detection/yolov5/pklot'"
            ],
            "application/vnd.google.colaboratory.intrinsic+json": {
              "type": "string"
            }
          },
          "metadata": {},
          "execution_count": 26
        }
      ]
    },
    {
      "cell_type": "code",
      "source": [
        "%cd /content/drive/MyDrive/yolo/pklot detection/yolov5/models"
      ],
      "metadata": {
        "colab": {
          "base_uri": "https://localhost:8080/"
        },
        "id": "AHIv0b5QdGEl",
        "outputId": "b168a9f5-6d65-4001-b51c-967315e548db"
      },
      "execution_count": 30,
      "outputs": [
        {
          "output_type": "stream",
          "name": "stdout",
          "text": [
            "/content/drive/MyDrive/yolo/pklot detection/yolov5/models\n"
          ]
        }
      ]
    },
    {
      "cell_type": "code",
      "source": [
        "%pwd"
      ],
      "metadata": {
        "colab": {
          "base_uri": "https://localhost:8080/",
          "height": 35
        },
        "id": "6PA3REARdKoF",
        "outputId": "9ed71903-2fee-4f89-882d-241331a09783"
      },
      "execution_count": 32,
      "outputs": [
        {
          "output_type": "execute_result",
          "data": {
            "text/plain": [
              "'/content/drive/MyDrive/yolo/pklot detection/yolov5/models'"
            ],
            "application/vnd.google.colaboratory.intrinsic+json": {
              "type": "string"
            }
          },
          "metadata": {},
          "execution_count": 32
        }
      ]
    },
    {
      "cell_type": "code",
      "source": [
        "%cat yolov5s.yaml"
      ],
      "metadata": {
        "id": "3rzWzstKcorB"
      },
      "execution_count": null,
      "outputs": []
    },
    {
      "cell_type": "code",
      "source": [
        "%%writetemplate custom_yolov5s.yaml\n",
        "\n",
        "# Parameters\n",
        "nc: {num_classes} # number of classes\n",
        "depth_multiple: 0.33 # model depth multiple\n",
        "width_multiple: 0.50 # layer channel multiple\n",
        "anchors:\n",
        "  - [10, 13, 16, 30, 33, 23] # P3/8\n",
        "  - [30, 61, 62, 45, 59, 119] # P4/16\n",
        "  - [116, 90, 156, 198, 373, 326] # P5/32\n",
        "\n",
        "# YOLOv5 v6.0 backbone\n",
        "backbone:\n",
        "  # [from, number, module, args]\n",
        "  [\n",
        "    [-1, 1, Conv, [64, 6, 2, 2]], # 0-P1/2\n",
        "    [-1, 1, Conv, [128, 3, 2]], # 1-P2/4\n",
        "    [-1, 3, C3, [128]],\n",
        "    [-1, 1, Conv, [256, 3, 2]], # 3-P3/8\n",
        "    [-1, 6, C3, [256]],\n",
        "    [-1, 1, Conv, [512, 3, 2]], # 5-P4/16\n",
        "    [-1, 9, C3, [512]],\n",
        "    [-1, 1, Conv, [1024, 3, 2]], # 7-P5/32\n",
        "    [-1, 3, C3, [1024]],\n",
        "    [-1, 1, SPPF, [1024, 5]], # 9\n",
        "  ]\n",
        "\n",
        "# YOLOv5 v6.0 head\n",
        "head: [\n",
        "    [-1, 1, Conv, [512, 1, 1]],\n",
        "    [-1, 1, nn.Upsample, [None, 2, \"nearest\"]],\n",
        "    [[-1, 6], 1, Concat, [1]], # cat backbone P4\n",
        "    [-1, 3, C3, [512, False]], # 13\n",
        "\n",
        "    [-1, 1, Conv, [256, 1, 1]],\n",
        "    [-1, 1, nn.Upsample, [None, 2, \"nearest\"]],\n",
        "    [[-1, 4], 1, Concat, [1]], # cat backbone P3\n",
        "    [-1, 3, C3, [256, False]], # 17 (P3/8-small)\n",
        "\n",
        "    [-1, 1, Conv, [256, 3, 2]],\n",
        "    [[-1, 14], 1, Concat, [1]], # cat head P4\n",
        "    [-1, 3, C3, [512, False]], # 20 (P4/16-medium)\n",
        "\n",
        "    [-1, 1, Conv, [512, 3, 2]],\n",
        "    [[-1, 10], 1, Concat, [1]], # cat head P5\n",
        "    [-1, 3, C3, [1024, False]], # 23 (P5/32-large)\n",
        "\n",
        "    [[17, 20, 23], 1, Detect, [nc, anchors]], # Detect(P3, P4, P5)\n",
        "  ]"
      ],
      "metadata": {
        "id": "fwaOCDzmdCn5"
      },
      "execution_count": 36,
      "outputs": []
    },
    {
      "cell_type": "markdown",
      "source": [
        "## 5.Train"
      ],
      "metadata": {
        "id": "Pbmuba1Gd6xJ"
      }
    },
    {
      "cell_type": "code",
      "source": [
        "%pwd"
      ],
      "metadata": {
        "colab": {
          "base_uri": "https://localhost:8080/",
          "height": 35
        },
        "id": "PZVBXDuHe3_i",
        "outputId": "a5cf946f-3a92-4500-c183-08d64bb69df5"
      },
      "execution_count": 38,
      "outputs": [
        {
          "output_type": "execute_result",
          "data": {
            "text/plain": [
              "'/content/drive/MyDrive/yolo/pklot detection/yolov5/models'"
            ],
            "application/vnd.google.colaboratory.intrinsic+json": {
              "type": "string"
            }
          },
          "metadata": {},
          "execution_count": 38
        }
      ]
    },
    {
      "cell_type": "code",
      "source": [
        "%cd /content/drive/MyDrive/yolo/pklot detection/yolov5"
      ],
      "metadata": {
        "colab": {
          "base_uri": "https://localhost:8080/"
        },
        "id": "hcGtxE_2ecQg",
        "outputId": "c5dcf918-fb0b-4b0c-cd9a-ba32e9d15657"
      },
      "execution_count": 39,
      "outputs": [
        {
          "output_type": "stream",
          "name": "stdout",
          "text": [
            "/content/drive/MyDrive/yolo/pklot detection/yolov5\n"
          ]
        }
      ]
    },
    {
      "cell_type": "code",
      "source": [
        "%pwd"
      ],
      "metadata": {
        "colab": {
          "base_uri": "https://localhost:8080/",
          "height": 35
        },
        "id": "rbE7jm0ve5k5",
        "outputId": "23245b4c-02ef-4574-fb7b-106d38c32800"
      },
      "execution_count": 40,
      "outputs": [
        {
          "output_type": "execute_result",
          "data": {
            "text/plain": [
              "'/content/drive/MyDrive/yolo/pklot detection/yolov5'"
            ],
            "application/vnd.google.colaboratory.intrinsic+json": {
              "type": "string"
            }
          },
          "metadata": {},
          "execution_count": 40
        }
      ]
    },
    {
      "cell_type": "code",
      "source": [
        "!python train.py --img 640 --batch 32 --epochs 100 --data ./pklot/data.yaml --cfg ./models/custom_yolov5s.yaml --weights '' --name pklot_result --cache"
      ],
      "metadata": {
        "colab": {
          "base_uri": "https://localhost:8080/"
        },
        "id": "tOtWWYfre-CF",
        "outputId": "8b2cd522-b71b-4b4b-ec19-88e61d14043e"
      },
      "execution_count": 41,
      "outputs": [
        {
          "output_type": "stream",
          "name": "stdout",
          "text": [
            "       4/99       8.9G    0.05345     0.2338   0.005919       1197        640: 100% 272/272 [08:23<00:00,  1.85s/it]\n",
            "                 Class     Images  Instances          P          R      mAP50   mAP50-95: 100% 39/39 [00:40<00:00,  1.03s/it]\n",
            "                   all       2483     143316      0.953      0.958      0.972      0.564\n",
            "\n",
            "      Epoch    GPU_mem   box_loss   obj_loss   cls_loss  Instances       Size\n",
            "       5/99       8.9G    0.05073     0.2229   0.005544       1548        640: 100% 272/272 [08:14<00:00,  1.82s/it]\n",
            "                 Class     Images  Instances          P          R      mAP50   mAP50-95: 100% 39/39 [00:42<00:00,  1.10s/it]\n",
            "                   all       2483     143316      0.958      0.968      0.978      0.693\n",
            "\n",
            "      Epoch    GPU_mem   box_loss   obj_loss   cls_loss  Instances       Size\n",
            "       6/99       8.9G    0.04831     0.2142   0.005297       1096        640: 100% 272/272 [08:20<00:00,  1.84s/it]\n",
            "                 Class     Images  Instances          P          R      mAP50   mAP50-95: 100% 39/39 [00:41<00:00,  1.07s/it]\n",
            "                   all       2483     143316      0.962      0.972      0.974       0.71\n",
            "\n",
            "      Epoch    GPU_mem   box_loss   obj_loss   cls_loss  Instances       Size\n",
            "       7/99       8.9G    0.04661     0.2072    0.00529       1646        640: 100% 272/272 [08:28<00:00,  1.87s/it]\n",
            "                 Class     Images  Instances          P          R      mAP50   mAP50-95: 100% 39/39 [00:39<00:00,  1.02s/it]\n",
            "                   all       2483     143316      0.962      0.971      0.978      0.741\n",
            "\n",
            "      Epoch    GPU_mem   box_loss   obj_loss   cls_loss  Instances       Size\n",
            "       8/99       8.9G    0.04503     0.1997   0.004953       1466        640: 100% 272/272 [08:17<00:00,  1.83s/it]\n",
            "                 Class     Images  Instances          P          R      mAP50   mAP50-95: 100% 39/39 [00:41<00:00,  1.08s/it]\n",
            "                   all       2483     143316      0.963      0.971      0.982      0.773\n",
            "\n",
            "      Epoch    GPU_mem   box_loss   obj_loss   cls_loss  Instances       Size\n",
            "       9/99       8.9G    0.04452     0.1946   0.004823       1561        640: 100% 272/272 [08:13<00:00,  1.81s/it]\n",
            "                 Class     Images  Instances          P          R      mAP50   mAP50-95: 100% 39/39 [00:42<00:00,  1.09s/it]\n",
            "                   all       2483     143316      0.968      0.971      0.983       0.78\n",
            "\n",
            "      Epoch    GPU_mem   box_loss   obj_loss   cls_loss  Instances       Size\n",
            "      10/99       8.9G    0.04336     0.1893   0.004808       1217        640: 100% 272/272 [08:14<00:00,  1.82s/it]\n",
            "                 Class     Images  Instances          P          R      mAP50   mAP50-95: 100% 39/39 [00:40<00:00,  1.05s/it]\n",
            "                   all       2483     143316      0.974      0.969      0.983        0.8\n",
            "\n",
            "      Epoch    GPU_mem   box_loss   obj_loss   cls_loss  Instances       Size\n",
            "      11/99       8.9G    0.04229     0.1842    0.00464       1294        640: 100% 272/272 [08:16<00:00,  1.82s/it]\n",
            "                 Class     Images  Instances          P          R      mAP50   mAP50-95: 100% 39/39 [00:41<00:00,  1.05s/it]\n",
            "                   all       2483     143316      0.975      0.972      0.984      0.807\n",
            "\n",
            "      Epoch    GPU_mem   box_loss   obj_loss   cls_loss  Instances       Size\n",
            "      12/99       8.9G    0.04203     0.1818    0.00454       2539        640:  53% 145/272 [04:21<03:49,  1.81s/it]\n",
            "Traceback (most recent call last):\n",
            "  File \"/content/drive/MyDrive/yolo/pklot detection/yolov5/train.py\", line 848, in <module>\n",
            "    main(opt)\n",
            "  File \"/content/drive/MyDrive/yolo/pklot detection/yolov5/train.py\", line 623, in main\n",
            "    train(opt.hyp, opt, device, callbacks)\n",
            "  File \"/content/drive/MyDrive/yolo/pklot detection/yolov5/train.py\", line 383, in train\n",
            "    loss, loss_items = compute_loss(pred, targets.to(device))  # loss scaled by batch_size\n",
            "  File \"/content/drive/MyDrive/yolo/pklot detection/yolov5/utils/loss.py\", line 153, in __call__\n",
            "    pwh = (pwh.sigmoid() * 2) ** 2 * anchors[i]\n",
            "KeyboardInterrupt\n"
          ]
        }
      ]
    },
    {
      "cell_type": "code",
      "source": [
        "Image(filename=\"\",width = 600)"
      ],
      "metadata": {
        "id": "Wv24ywaAfdvx"
      },
      "execution_count": null,
      "outputs": []
    },
    {
      "cell_type": "code",
      "source": [
        "!python val.py --weights /content/drice/MyDrive/yolo/yolov5/runs/train/pothole_result/weights/best.pt --data /content/drice/MyDrive/yolo/yolov5/pothole/data.yaml --img 640 --iou 0.65 --half"
      ],
      "metadata": {
        "id": "hx5ewVwegA00"
      },
      "execution_count": null,
      "outputs": []
    }
  ]
}