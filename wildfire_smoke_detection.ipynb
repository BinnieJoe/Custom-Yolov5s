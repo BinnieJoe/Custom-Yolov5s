{
  "nbformat": 4,
  "nbformat_minor": 0,
  "metadata": {
    "colab": {
      "provenance": []
    },
    "kernelspec": {
      "name": "python3",
      "display_name": "Python 3"
    },
    "language_info": {
      "name": "python"
    }
  },
  "cells": [
    {
      "cell_type": "code",
      "execution_count": null,
      "metadata": {
        "colab": {
          "base_uri": "https://localhost:8080/"
        },
        "id": "v3c01VF7hBtc",
        "outputId": "018e29f8-882b-43bb-e6ff-3bb1005f52c6"
      },
      "outputs": [
        {
          "output_type": "stream",
          "name": "stdout",
          "text": [
            "Mounted at /content/drive\n"
          ]
        }
      ],
      "source": [
        "from google.colab import drive\n",
        "drive.mount(\"/content/drive\")"
      ]
    },
    {
      "cell_type": "markdown",
      "source": [
        "## 1.모델 가져오기(git clone)"
      ],
      "metadata": {
        "id": "l9_ouBHehpOk"
      }
    },
    {
      "cell_type": "code",
      "source": [
        "%pwd"
      ],
      "metadata": {
        "colab": {
          "base_uri": "https://localhost:8080/",
          "height": 35
        },
        "id": "VIQ-gKKFhMvT",
        "outputId": "3260eb92-c5d7-47b7-de62-0f7fd368a384"
      },
      "execution_count": null,
      "outputs": [
        {
          "output_type": "execute_result",
          "data": {
            "text/plain": [
              "'/content'"
            ],
            "application/vnd.google.colaboratory.intrinsic+json": {
              "type": "string"
            }
          },
          "metadata": {},
          "execution_count": 3
        }
      ]
    },
    {
      "cell_type": "code",
      "source": [
        "%cd /content/drive/MyDrive/yolo/wildfire smoke detection"
      ],
      "metadata": {
        "colab": {
          "base_uri": "https://localhost:8080/"
        },
        "id": "Kz-q8ie5hUsf",
        "outputId": "246976d2-a227-4469-efc8-5ff5ec2b6172"
      },
      "execution_count": null,
      "outputs": [
        {
          "output_type": "stream",
          "name": "stdout",
          "text": [
            "/content/drive/MyDrive/yolo/wildfire smoke detection\n"
          ]
        }
      ]
    },
    {
      "cell_type": "code",
      "source": [
        "%pwd"
      ],
      "metadata": {
        "colab": {
          "base_uri": "https://localhost:8080/",
          "height": 35
        },
        "id": "3-nXD6tKhmGr",
        "outputId": "4250f7b8-3995-4401-a3ac-af50cd41f81e"
      },
      "execution_count": null,
      "outputs": [
        {
          "output_type": "execute_result",
          "data": {
            "text/plain": [
              "'/content/drive/MyDrive/yolo/wildfire smoke detection'"
            ],
            "application/vnd.google.colaboratory.intrinsic+json": {
              "type": "string"
            }
          },
          "metadata": {},
          "execution_count": 5
        }
      ]
    },
    {
      "cell_type": "code",
      "source": [
        "!git clone https://github.com/ultralytics/yolov5"
      ],
      "metadata": {
        "colab": {
          "base_uri": "https://localhost:8080/"
        },
        "id": "IJiI5s9ChmlL",
        "outputId": "87a60812-a52c-4dde-92ff-54694fa3266d"
      },
      "execution_count": null,
      "outputs": [
        {
          "output_type": "stream",
          "name": "stdout",
          "text": [
            "Cloning into 'yolov5'...\n",
            "remote: Enumerating objects: 16582, done.\u001b[K\n",
            "remote: Counting objects: 100% (60/60), done.\u001b[K\n",
            "remote: Compressing objects: 100% (41/41), done.\u001b[K\n",
            "remote: Total 16582 (delta 30), reused 39 (delta 19), pack-reused 16522\u001b[K\n",
            "Receiving objects: 100% (16582/16582), 15.11 MiB | 12.41 MiB/s, done.\n",
            "Resolving deltas: 100% (11383/11383), done.\n",
            "Updating files: 100% (148/148), done.\n"
          ]
        }
      ]
    },
    {
      "cell_type": "code",
      "source": [
        "%cd /content/drive/MyDrive/yolo/wildfire smoke detection/yolov5"
      ],
      "metadata": {
        "colab": {
          "base_uri": "https://localhost:8080/"
        },
        "id": "tOQrA6edh2IX",
        "outputId": "e38e47d6-17d1-4411-c379-896ce8e66990"
      },
      "execution_count": null,
      "outputs": [
        {
          "output_type": "stream",
          "name": "stdout",
          "text": [
            "/content/drive/MyDrive/yolo/wildfire smoke detection/yolov5\n"
          ]
        }
      ]
    },
    {
      "cell_type": "code",
      "source": [
        "!pip install -r requirements.txt\n",
        "import torch\n",
        "from IPython.display import Image, clear_output\n",
        "print('Setup complete. Using torch %s %s' % (torch.__version__, torch.cuda.get_device_properties(0) if torch.cuda.is_available() else 'CPU'))"
      ],
      "metadata": {
        "id": "vttrmRt3h77n"
      },
      "execution_count": null,
      "outputs": []
    },
    {
      "cell_type": "markdown",
      "source": [
        "## 2.데이터셋 다운로드"
      ],
      "metadata": {
        "id": "v5WTXbU4iL5X"
      }
    },
    {
      "cell_type": "code",
      "source": [
        "%pwd"
      ],
      "metadata": {
        "colab": {
          "base_uri": "https://localhost:8080/",
          "height": 35
        },
        "id": "pmnnwW4giRon",
        "outputId": "5d265cfe-58d3-46b7-ffaf-80108205d60b"
      },
      "execution_count": null,
      "outputs": [
        {
          "output_type": "execute_result",
          "data": {
            "text/plain": [
              "'/content'"
            ],
            "application/vnd.google.colaboratory.intrinsic+json": {
              "type": "string"
            }
          },
          "metadata": {},
          "execution_count": 2
        }
      ]
    },
    {
      "cell_type": "code",
      "source": [
        "%cd /content/drive/MyDrive/yolo/wildfire smoke detection/yolov5/smoke"
      ],
      "metadata": {
        "id": "Efpp0qDkiVAX",
        "colab": {
          "base_uri": "https://localhost:8080/"
        },
        "outputId": "aee680de-0f49-4b05-e94d-6dfd4b49e832"
      },
      "execution_count": null,
      "outputs": [
        {
          "output_type": "stream",
          "name": "stdout",
          "text": [
            "/content/drive/MyDrive/yolo/wildfire smoke detection/yolov5/smoke\n"
          ]
        }
      ]
    },
    {
      "cell_type": "code",
      "source": [
        "%pwd"
      ],
      "metadata": {
        "id": "KIWG_5xoj1qj",
        "colab": {
          "base_uri": "https://localhost:8080/",
          "height": 35
        },
        "outputId": "6c000c9f-ff18-4bd1-d67d-46f0d9370aab"
      },
      "execution_count": null,
      "outputs": [
        {
          "output_type": "execute_result",
          "data": {
            "text/plain": [
              "'/content/drive/MyDrive/yolo/wildfire smoke detection/yolov5/smoke'"
            ],
            "application/vnd.google.colaboratory.intrinsic+json": {
              "type": "string"
            }
          },
          "metadata": {},
          "execution_count": 4
        }
      ]
    },
    {
      "cell_type": "code",
      "source": [
        "!curl -L \"https://public.roboflow.com/ds/mHSPOqGn7y?key=Vxl88L0d23\" > roboflow.zip; unzip roboflow.zip; rm roboflow.zip"
      ],
      "metadata": {
        "id": "1C9w9phdkeBI"
      },
      "execution_count": null,
      "outputs": []
    },
    {
      "cell_type": "code",
      "source": [
        "from glob import glob\n",
        "train_img_list = glob(\"/content/drive/MyDrive/yolo/wildfire smoke detection/yolov5/smoke/train/images/*\")\n",
        "val_img_list = glob(\"/content/drive/MyDrive/yolo/wildfire smoke detection/yolov5/smoke/valid/images/*\")\n",
        "test_img_list = glob(\"/content/drive/MyDrive/yolo/wildfire smoke detection/yolov5/smoke/test/images/*\")\n",
        "print(len(train_img_list), len(val_img_list), len(test_img_list))"
      ],
      "metadata": {
        "colab": {
          "base_uri": "https://localhost:8080/"
        },
        "id": "XKHqNafhkmFs",
        "outputId": "71e14976-0508-4d48-fa2c-78f302b233a2"
      },
      "execution_count": null,
      "outputs": [
        {
          "output_type": "stream",
          "name": "stdout",
          "text": [
            "516 147 74\n"
          ]
        }
      ]
    },
    {
      "cell_type": "markdown",
      "source": [
        "## 3.yaml파일 만들기"
      ],
      "metadata": {
        "id": "-HdhMSVOlCsO"
      }
    },
    {
      "cell_type": "code",
      "source": [
        "import yaml\n",
        "with open(\"/content/drive/MyDrive/yolo/wildfire smoke detection/yolov5/smoke/train.txt\",'w') as f:\n",
        "  f.write('\\n'.join(train_img_list) + '\\n')\n",
        "with open(\"/content/drive/MyDrive/yolo/wildfire smoke detection/yolov5/smoke/valid.txt\",'w') as f:\n",
        "  f.write('\\n'.join(val_img_list) + '\\n')\n",
        "with open(\"/content/drive/MyDrive/yolo/wildfire smoke detection/yolov5/smoke/test.txt\",'w') as f:\n",
        "  f.write('\\n'.join(test_img_list) + '\\n')"
      ],
      "metadata": {
        "id": "EjA7snQflNPd"
      },
      "execution_count": null,
      "outputs": []
    },
    {
      "cell_type": "code",
      "source": [
        "from IPython.core.magic import register_line_cell_magic\n",
        "\n",
        "@register_line_cell_magic\n",
        "def writetemplate(line,cell):\n",
        "    with open(line, 'w') as f:\n",
        "        f.write(cell.format(**globals()))"
      ],
      "metadata": {
        "id": "sPxUrWKOlupY"
      },
      "execution_count": null,
      "outputs": []
    },
    {
      "cell_type": "code",
      "source": [
        "%cat data.yaml"
      ],
      "metadata": {
        "id": "wZlcNHavmCD8"
      },
      "execution_count": null,
      "outputs": []
    },
    {
      "cell_type": "code",
      "source": [
        "%%writetemplate data.yaml\n",
        "\n",
        "train: ./train/images\n",
        "val: ./valid/images\n",
        "\n",
        "nc: 1\n",
        "names: ['smoke']"
      ],
      "metadata": {
        "id": "7MuP30kRmJS8"
      },
      "execution_count": null,
      "outputs": []
    },
    {
      "cell_type": "code",
      "source": [
        "%cat data.yaml"
      ],
      "metadata": {
        "id": "yqWoUH0rmX5m"
      },
      "execution_count": null,
      "outputs": []
    },
    {
      "cell_type": "markdown",
      "source": [
        "## 4.FineTunning"
      ],
      "metadata": {
        "id": "BO4toC5smpGH"
      }
    },
    {
      "cell_type": "code",
      "source": [
        "with open(\"data.yaml\", 'r') as stream:\n",
        "  num_classes = str(yaml.safe_load(stream)['nc'])\n",
        "  print(num_classes)"
      ],
      "metadata": {
        "colab": {
          "base_uri": "https://localhost:8080/"
        },
        "id": "P4YMzK3dm2eW",
        "outputId": "563faf85-f22b-4b9b-bdf1-8ca6e44df468"
      },
      "execution_count": null,
      "outputs": [
        {
          "output_type": "stream",
          "name": "stdout",
          "text": [
            "1\n"
          ]
        }
      ]
    },
    {
      "cell_type": "code",
      "source": [
        "%pwd"
      ],
      "metadata": {
        "colab": {
          "base_uri": "https://localhost:8080/",
          "height": 35
        },
        "id": "7DRqO4FrnWdW",
        "outputId": "8b948b05-4b1d-4005-d342-8c80b3610ef6"
      },
      "execution_count": null,
      "outputs": [
        {
          "output_type": "execute_result",
          "data": {
            "text/plain": [
              "'/content/drive/MyDrive/yolo/wildfire smoke detection/yolov5/smoke'"
            ],
            "application/vnd.google.colaboratory.intrinsic+json": {
              "type": "string"
            }
          },
          "metadata": {},
          "execution_count": 18
        }
      ]
    },
    {
      "cell_type": "code",
      "source": [
        "%cd /content/drive/MyDrive/yolo/wildfire smoke detection/yolov5/models"
      ],
      "metadata": {
        "colab": {
          "base_uri": "https://localhost:8080/"
        },
        "id": "cPFuZkodnYMF",
        "outputId": "baa9e37b-7dd7-4ed8-c4cc-c8ebb4a39bca"
      },
      "execution_count": null,
      "outputs": [
        {
          "output_type": "stream",
          "name": "stdout",
          "text": [
            "/content/drive/MyDrive/yolo/wildfire smoke detection/yolov5/models\n"
          ]
        }
      ]
    },
    {
      "cell_type": "code",
      "source": [
        "%pwd"
      ],
      "metadata": {
        "colab": {
          "base_uri": "https://localhost:8080/",
          "height": 35
        },
        "id": "wAqQOGNMnb0a",
        "outputId": "b7a06188-4888-4ed6-e137-17592aa889e2"
      },
      "execution_count": null,
      "outputs": [
        {
          "output_type": "execute_result",
          "data": {
            "text/plain": [
              "'/content/drive/MyDrive/yolo/wildfire smoke detection/yolov5/models'"
            ],
            "application/vnd.google.colaboratory.intrinsic+json": {
              "type": "string"
            }
          },
          "metadata": {},
          "execution_count": 20
        }
      ]
    },
    {
      "cell_type": "code",
      "source": [
        "%cat yolov5s.yaml"
      ],
      "metadata": {
        "id": "mgUcPuqoncVF"
      },
      "execution_count": null,
      "outputs": []
    },
    {
      "cell_type": "code",
      "source": [
        "%%writetemplate custom_yolov5s.yaml\n",
        "\n",
        "# Parameters\n",
        "nc: {num_classes} # number of classes\n",
        "depth_multiple: 0.33 # model depth multiple\n",
        "width_multiple: 0.50 # layer channel multiple\n",
        "anchors:\n",
        "  - [10, 13, 16, 30, 33, 23] # P3/8\n",
        "  - [30, 61, 62, 45, 59, 119] # P4/16\n",
        "  - [116, 90, 156, 198, 373, 326] # P5/32\n",
        "\n",
        "# YOLOv5 v6.0 backbone\n",
        "backbone:\n",
        "  # [from, number, module, args]\n",
        "  [\n",
        "    [-1, 1, Conv, [64, 6, 2, 2]], # 0-P1/2\n",
        "    [-1, 1, Conv, [128, 3, 2]], # 1-P2/4\n",
        "    [-1, 3, C3, [128]],\n",
        "    [-1, 1, Conv, [256, 3, 2]], # 3-P3/8\n",
        "    [-1, 6, C3, [256]],\n",
        "    [-1, 1, Conv, [512, 3, 2]], # 5-P4/16\n",
        "    [-1, 9, C3, [512]],\n",
        "    [-1, 1, Conv, [1024, 3, 2]], # 7-P5/32\n",
        "    [-1, 3, C3, [1024]],\n",
        "    [-1, 1, SPPF, [1024, 5]], # 9\n",
        "  ]\n",
        "\n",
        "# YOLOv5 v6.0 head\n",
        "head: [\n",
        "    [-1, 1, Conv, [512, 1, 1]],\n",
        "    [-1, 1, nn.Upsample, [None, 2, \"nearest\"]],\n",
        "    [[-1, 6], 1, Concat, [1]], # cat backbone P4\n",
        "    [-1, 3, C3, [512, False]], # 13\n",
        "\n",
        "    [-1, 1, Conv, [256, 1, 1]],\n",
        "    [-1, 1, nn.Upsample, [None, 2, \"nearest\"]],\n",
        "    [[-1, 4], 1, Concat, [1]], # cat backbone P3\n",
        "    [-1, 3, C3, [256, False]], # 17 (P3/8-small)\n",
        "\n",
        "    [-1, 1, Conv, [256, 3, 2]],\n",
        "    [[-1, 14], 1, Concat, [1]], # cat head P4\n",
        "    [-1, 3, C3, [512, False]], # 20 (P4/16-medium)\n",
        "\n",
        "    [-1, 1, Conv, [512, 3, 2]],\n",
        "    [[-1, 10], 1, Concat, [1]], # cat head P5\n",
        "    [-1, 3, C3, [1024, False]], # 23 (P5/32-large)\n",
        "\n",
        "    [[17, 20, 23], 1, Detect, [nc, anchors]], # Detect(P3, P4, P5)\n",
        "  ]"
      ],
      "metadata": {
        "id": "jGSgj1ZynhQl"
      },
      "execution_count": null,
      "outputs": []
    },
    {
      "cell_type": "markdown",
      "source": [
        "## 5.Train"
      ],
      "metadata": {
        "id": "_dD6vFKNny-z"
      }
    },
    {
      "cell_type": "code",
      "source": [
        "%pwd"
      ],
      "metadata": {
        "colab": {
          "base_uri": "https://localhost:8080/",
          "height": 35
        },
        "id": "E-ogRm3Yn4XO",
        "outputId": "0b0d165b-bbd8-4fdc-adfa-a2a0fc53b5ac"
      },
      "execution_count": null,
      "outputs": [
        {
          "output_type": "execute_result",
          "data": {
            "text/plain": [
              "'/content/drive/MyDrive/yolo/wildfire smoke detection/yolov5/models'"
            ],
            "application/vnd.google.colaboratory.intrinsic+json": {
              "type": "string"
            }
          },
          "metadata": {},
          "execution_count": 23
        }
      ]
    },
    {
      "cell_type": "code",
      "source": [
        "%cd /content/drive/MyDrive/yolo/wildfire smoke detection/yolov5"
      ],
      "metadata": {
        "colab": {
          "base_uri": "https://localhost:8080/"
        },
        "id": "xw2e_V5Ln5oL",
        "outputId": "8d05effd-ae9d-4e9b-8d56-6591f23464a6"
      },
      "execution_count": null,
      "outputs": [
        {
          "output_type": "stream",
          "name": "stdout",
          "text": [
            "/content/drive/MyDrive/yolo/wildfire smoke detection/yolov5\n"
          ]
        }
      ]
    },
    {
      "cell_type": "code",
      "source": [
        "%pwd"
      ],
      "metadata": {
        "colab": {
          "base_uri": "https://localhost:8080/",
          "height": 35
        },
        "id": "lkTNAL9Mn8Eq",
        "outputId": "edf7c366-1fdf-464b-c35d-274607c6464e"
      },
      "execution_count": null,
      "outputs": [
        {
          "output_type": "execute_result",
          "data": {
            "text/plain": [
              "'/content/drive/MyDrive/yolo/wildfire smoke detection/yolov5'"
            ],
            "application/vnd.google.colaboratory.intrinsic+json": {
              "type": "string"
            }
          },
          "metadata": {},
          "execution_count": 25
        }
      ]
    },
    {
      "cell_type": "code",
      "source": [
        "!python train.py --img 640 --batch 32 --epochs 100 --data ./smoke/data.yaml --cfg ./models/custom_yolov5s.yaml --weights '' --name smoke_result --cache"
      ],
      "metadata": {
        "id": "5TYOR1Skn8nP"
      },
      "execution_count": null,
      "outputs": []
    },
    {
      "cell_type": "code",
      "source": [
        "Image(file_name=\"\", width = 600)"
      ],
      "metadata": {
        "id": "BUVlVPU1oSSq"
      },
      "execution_count": null,
      "outputs": []
    },
    {
      "cell_type": "code",
      "source": [
        "!python val.py --weights /content/drice/MyDrive/yolo/yolov5/runs/train/pothole_result/weights/best.pt --data /content/drice/MyDrive/yolo/yolov5/pothole/data.yaml --img 640 --iou 0.65 --half"
      ],
      "metadata": {
        "id": "RnKGScbZoaBI"
      },
      "execution_count": null,
      "outputs": []
    }
  ]
}